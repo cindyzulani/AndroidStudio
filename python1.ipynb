{
  "nbformat": 4,
  "nbformat_minor": 0,
  "metadata": {
    "colab": {
      "name": "python1.ipynb",
      "provenance": [],
      "collapsed_sections": [],
      "authorship_tag": "ABX9TyOI5yWBsgPJ77wyP69FO0dI",
      "include_colab_link": true
    },
    "kernelspec": {
      "name": "python3",
      "display_name": "Python 3"
    },
    "language_info": {
      "name": "python"
    }
  },
  "cells": [
    {
      "cell_type": "markdown",
      "metadata": {
        "id": "view-in-github",
        "colab_type": "text"
      },
      "source": [
        "<a href=\"https://colab.research.google.com/github/cindyzulani/Software_Engineering_Cindy_Zulani/blob/main/python1.ipynb\" target=\"_parent\"><img src=\"https://colab.research.google.com/assets/colab-badge.svg\" alt=\"Open In Colab\"/></a>"
      ]
    },
    {
      "cell_type": "code",
      "metadata": {
        "colab": {
          "base_uri": "https://localhost:8080/"
        },
        "id": "wALan1UnH7kZ",
        "outputId": "586c3e94-97dc-4d58-e023-1deee3e968cd"
      },
      "source": [
        "print(\"Hello World\")"
      ],
      "execution_count": null,
      "outputs": [
        {
          "output_type": "stream",
          "name": "stdout",
          "text": [
            "Hello World\n"
          ]
        }
      ]
    },
    {
      "cell_type": "code",
      "metadata": {
        "colab": {
          "base_uri": "https://localhost:8080/"
        },
        "id": "A4rX7gEHIFi-",
        "outputId": "9eb7846f-b233-4f4d-dbe9-c195a196552c"
      },
      "source": [
        "a = \"Cindy\"\n",
        "print(a)"
      ],
      "execution_count": null,
      "outputs": [
        {
          "output_type": "stream",
          "name": "stdout",
          "text": [
            "Cindy\n"
          ]
        }
      ]
    },
    {
      "cell_type": "code",
      "metadata": {
        "colab": {
          "base_uri": "https://localhost:8080/"
        },
        "id": "9RgtAfmKKnwx",
        "outputId": "0f4e6870-9fbc-4de5-8432-e964c49ad9d8"
      },
      "source": [
        "print(12)"
      ],
      "execution_count": null,
      "outputs": [
        {
          "output_type": "stream",
          "name": "stdout",
          "text": [
            "12\n"
          ]
        }
      ]
    },
    {
      "cell_type": "code",
      "metadata": {
        "colab": {
          "base_uri": "https://localhost:8080/"
        },
        "id": "lf44Q0nj_f9J",
        "outputId": "80ed840d-0f75-4968-90e9-cd38d5ce03ee"
      },
      "source": [
        "Sekolah = [\"Kelas\", 10, True, 3.14, [\"Bambang\",\"Budi\",\"Joko\"], {\"Hewan\":\"Gajah\"}]\n",
        "print(Sekolah)"
      ],
      "execution_count": 1,
      "outputs": [
        {
          "output_type": "stream",
          "name": "stdout",
          "text": [
            "['Kelas', 10, True, 3.14, ['Bambang', 'Budi', 'Joko'], {'Hewan': 'Gajah'}]\n"
          ]
        }
      ]
    },
    {
      "cell_type": "code",
      "metadata": {
        "colab": {
          "base_uri": "https://localhost:8080/"
        },
        "id": "_PXD1tFPLWc9",
        "outputId": "e89d2a5d-9e3f-4645-81f4-27828ed5fc1b"
      },
      "source": [
        "name = \"cindy\"\n",
        "old = 19\n",
        "print(\"My name is \" + name + \" im \" + str(old) + \" years old\")"
      ],
      "execution_count": 8,
      "outputs": [
        {
          "output_type": "stream",
          "name": "stdout",
          "text": [
            "My name is cindy im 19 years old\n"
          ]
        }
      ]
    },
    {
      "cell_type": "code",
      "metadata": {
        "colab": {
          "base_uri": "https://localhost:8080/"
        },
        "id": "tpxQcW9JAyEc",
        "outputId": "02a395da-76c9-4d1e-d394-9b7423d04aeb"
      },
      "source": [
        "print(\"My name is {} im {} years old\".format(name,old))"
      ],
      "execution_count": 9,
      "outputs": [
        {
          "output_type": "stream",
          "name": "stdout",
          "text": [
            "My name is cindy im 19 years old\n"
          ]
        }
      ]
    },
    {
      "cell_type": "code",
      "metadata": {
        "colab": {
          "base_uri": "https://localhost:8080/"
        },
        "id": "wuH224gRNnNm",
        "outputId": "b7fb9ca0-0455-4182-cf4c-27be19f59b81"
      },
      "source": [
        "fruit = [\"apple\", \"banana\", \"cherry\"]\n",
        "biodata =[\"Cindy\", 19, True, [\"apple\", \"banana\", \"cherry\"], {\"name\" : \"cindy\", \"age\" : 19} ]\n",
        "biodata[-1][\"age\"]"
      ],
      "execution_count": 10,
      "outputs": [
        {
          "output_type": "execute_result",
          "data": {
            "text/plain": [
              "19"
            ]
          },
          "metadata": {},
          "execution_count": 10
        }
      ]
    },
    {
      "cell_type": "code",
      "metadata": {
        "colab": {
          "base_uri": "https://localhost:8080/",
          "height": 35
        },
        "id": "UHmgVE4_A6qI",
        "outputId": "34d82c91-51a3-47ed-ac4f-4485b97bbf4a"
      },
      "source": [
        "biodata[3][1]"
      ],
      "execution_count": 11,
      "outputs": [
        {
          "output_type": "execute_result",
          "data": {
            "application/vnd.google.colaboratory.intrinsic+json": {
              "type": "string"
            },
            "text/plain": [
              "'banana'"
            ]
          },
          "metadata": {},
          "execution_count": 11
        }
      ]
    },
    {
      "cell_type": "code",
      "metadata": {
        "colab": {
          "base_uri": "https://localhost:8080/"
        },
        "id": "rit6GRwnPcxM",
        "outputId": "0ad0724e-92fd-486b-a1b1-0a9b7dde5426"
      },
      "source": [
        "fruit = [\"apple\", \"banana\", \"cherry\"]\n",
        "fruit[0:2]"
      ],
      "execution_count": null,
      "outputs": [
        {
          "output_type": "execute_result",
          "data": {
            "text/plain": [
              "['apple', 'banana']"
            ]
          },
          "metadata": {},
          "execution_count": 22
        }
      ]
    },
    {
      "cell_type": "code",
      "metadata": {
        "colab": {
          "base_uri": "https://localhost:8080/"
        },
        "id": "BPPyrHf2PxNz",
        "outputId": "a04cb3e3-d156-4670-f49b-9fffa06136a7"
      },
      "source": [
        "fruit = [\"apple\", \"banana\", \"cherry\", \"grape\"]\n",
        "fruit[-4:-1]"
      ],
      "execution_count": null,
      "outputs": [
        {
          "output_type": "execute_result",
          "data": {
            "text/plain": [
              "['apple', 'banana', 'cherry']"
            ]
          },
          "metadata": {},
          "execution_count": 52
        }
      ]
    },
    {
      "cell_type": "code",
      "metadata": {
        "colab": {
          "base_uri": "https://localhost:8080/"
        },
        "id": "CRuk6o_yRPff",
        "outputId": "6e64bac0-b693-4ba0-99f1-6b747f38c774"
      },
      "source": [
        "x = {\"name\" : \"John\", \"age\" : 36}\n",
        "x[\"age\"]"
      ],
      "execution_count": null,
      "outputs": [
        {
          "output_type": "execute_result",
          "data": {
            "text/plain": [
              "36"
            ]
          },
          "metadata": {},
          "execution_count": 37
        }
      ]
    },
    {
      "cell_type": "code",
      "metadata": {
        "colab": {
          "base_uri": "https://localhost:8080/"
        },
        "id": "CWc7WYBLQYBw",
        "outputId": "f8b158af-f277-4d0b-e292-06e28bece030"
      },
      "source": [
        "fruit = [\"apple\", \"banana\", \"cherry\", \"grape\", \"mango\", \"pear\"]\n",
        "fruit[1:4:2]\n",
        "\n",
        "print(\"name 1: {} name 2: {}\".format(fruit[1:4:2]))"
      ],
      "execution_count": null,
      "outputs": [
        {
          "output_type": "execute_result",
          "data": {
            "text/plain": [
              "['banana', 'grape']"
            ]
          },
          "metadata": {},
          "execution_count": 47
        }
      ]
    },
    {
      "cell_type": "code",
      "metadata": {
        "colab": {
          "base_uri": "https://localhost:8080/",
          "height": 35
        },
        "id": "WnRRsQATTyyL",
        "outputId": "8ee8ceac-de05-40e8-a737-13e83f97e9b8"
      },
      "source": [
        "x = {\"cindy\" : \"True\"}\n",
        "x[\"cindy\"]"
      ],
      "execution_count": null,
      "outputs": [
        {
          "output_type": "execute_result",
          "data": {
            "application/vnd.google.colaboratory.intrinsic+json": {
              "type": "string"
            },
            "text/plain": [
              "'True'"
            ]
          },
          "metadata": {},
          "execution_count": 35
        }
      ]
    },
    {
      "cell_type": "code",
      "metadata": {
        "colab": {
          "base_uri": "https://localhost:8080/"
        },
        "id": "n_8UOQRSWyRr",
        "outputId": "f3d80f2b-cd8a-467c-afbc-dc67248491e0"
      },
      "source": [
        "fruit = [\"apple\", \"banana\", \"cherry\", \"grape\", \"mango\", \"pear\"]\n",
        "print(\"I like: {} \".format(fruit[0:4:3]))"
      ],
      "execution_count": null,
      "outputs": [
        {
          "output_type": "stream",
          "name": "stdout",
          "text": [
            "I like: ['apple', 'grape'] \n"
          ]
        }
      ]
    },
    {
      "cell_type": "code",
      "metadata": {
        "colab": {
          "base_uri": "https://localhost:8080/",
          "height": 35
        },
        "id": "u4TVEdgi_wrp",
        "outputId": "bf1ea60a-572a-4916-f762-2bb4cf444791"
      },
      "source": [
        "Dict1 = {\"Hewan\":\"Gajah\", 0:22, \"Boolean\":\"Benar\"}\n",
        "Dict1[\"Hewan\"]"
      ],
      "execution_count": 4,
      "outputs": [
        {
          "output_type": "execute_result",
          "data": {
            "application/vnd.google.colaboratory.intrinsic+json": {
              "type": "string"
            },
            "text/plain": [
              "'Gajah'"
            ]
          },
          "metadata": {},
          "execution_count": 4
        }
      ]
    },
    {
      "cell_type": "code",
      "metadata": {
        "colab": {
          "base_uri": "https://localhost:8080/",
          "height": 35
        },
        "id": "8BpSxukD_9RM",
        "outputId": "e2e57a3c-2228-433f-80d5-3b4796543c23"
      },
      "source": [
        "Dict1[\"Boolean\"]"
      ],
      "execution_count": 5,
      "outputs": [
        {
          "output_type": "execute_result",
          "data": {
            "application/vnd.google.colaboratory.intrinsic+json": {
              "type": "string"
            },
            "text/plain": [
              "'Benar'"
            ]
          },
          "metadata": {},
          "execution_count": 5
        }
      ]
    },
    {
      "cell_type": "code",
      "metadata": {
        "colab": {
          "base_uri": "https://localhost:8080/",
          "height": 35
        },
        "id": "T2bvPcmNAkK8",
        "outputId": "9cae4cd2-f271-4972-dcb2-5b4add05363a"
      },
      "source": [
        "Dict1[\"Hewan\"]"
      ],
      "execution_count": 6,
      "outputs": [
        {
          "output_type": "execute_result",
          "data": {
            "application/vnd.google.colaboratory.intrinsic+json": {
              "type": "string"
            },
            "text/plain": [
              "'Gajah'"
            ]
          },
          "metadata": {},
          "execution_count": 6
        }
      ]
    }
  ]
}